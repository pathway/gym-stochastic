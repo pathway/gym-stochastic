{
 "cells": [
  {
   "cell_type": "code",
   "execution_count": 1,
   "metadata": {},
   "outputs": [],
   "source": [
    "%matplotlib inline"
   ]
  },
  {
   "cell_type": "code",
   "execution_count": 2,
   "metadata": {},
   "outputs": [],
   "source": [
    "import numpy as np"
   ]
  },
  {
   "cell_type": "code",
   "execution_count": 3,
   "metadata": {},
   "outputs": [],
   "source": [
    "import gym\n",
    "import gym_stochastic"
   ]
  },
  {
   "cell_type": "code",
   "execution_count": 4,
   "metadata": {},
   "outputs": [],
   "source": [
    "import gym_stochastic\n",
    "from gym_stochastic.envs.dist_utils import *"
   ]
  },
  {
   "cell_type": "code",
   "execution_count": 5,
   "metadata": {},
   "outputs": [],
   "source": [
    "#gym.make('WetChicken1d-v0')\n",
    "env_happyland=gym.make('DistributionContextualBanditEnv-v0',arms=2, p_dist_fn=1.0, r_dist_fn=1.0)"
   ]
  },
  {
   "cell_type": "code",
   "execution_count": 6,
   "metadata": {},
   "outputs": [],
   "source": [
    "import pandas as pd"
   ]
  },
  {
   "cell_type": "code",
   "execution_count": 7,
   "metadata": {},
   "outputs": [],
   "source": [
    "def eval_gym(env,bins=10,max_steps=100):    \n",
    "    obs=env.reset()\n",
    "    done=False\n",
    "    frame={}\n",
    "    frames=[]\n",
    "    steps=0\n",
    "    while steps<max_steps:\n",
    "        #print(obs)\n",
    "        action=env.action_space.sample()\n",
    "        obs,rew,done,info = env.step(action)\n",
    "        frame={'obs':obs,'r':rew,'done':done,'info':info,'action':action}\n",
    "        #print(frame)\n",
    "        frames += [frame]\n",
    "        steps+=1\n",
    "\n",
    "    df = pd.DataFrame(frames)\n",
    "    df\n",
    "    means={}\n",
    "    stds={}\n",
    "    for i in range(0,env.action_space.n):\n",
    "        means[i]=df[df.action==i].r.mean()\n",
    "        stds[i]=df[df.action==i].r.std()\n",
    "        df[df.action==i].r.hist(alpha=0.4,bins=bins)\n",
    "    print(\"means\",means)\n",
    "    print(\"std\",stds)\n"
   ]
  },
  {
   "cell_type": "code",
   "execution_count": 8,
   "metadata": {},
   "outputs": [
    {
     "data": {
      "text/plain": [
       "2"
      ]
     },
     "execution_count": 8,
     "metadata": {},
     "output_type": "execute_result"
    }
   ],
   "source": [
    "env_happyland.action_space.n"
   ]
  },
  {
   "cell_type": "code",
   "execution_count": 9,
   "metadata": {},
   "outputs": [
    {
     "name": "stdout",
     "output_type": "stream",
     "text": [
      "means {0: 1.0, 1: 1.0}\n",
      "std {0: 0.0, 1: 0.0}\n"
     ]
    },
    {
     "data": {
      "image/png": "[encoded data removed]",
      "text/plain": [
       "<Figure size 432x288 with 1 Axes>"
      ]
     },
     "metadata": {
      "needs_background": "light"
     },
     "output_type": "display_data"
    }
   ],
   "source": [
    "eval_gym(env_happyland)"
   ]
  },
  {
   "cell_type": "code",
   "execution_count": 10,
   "metadata": {},
   "outputs": [
    {
     "name": "stdout",
     "output_type": "stream",
     "text": [
      "means {0: 0.13333333333333333, 1: 0.05454545454545454}\n",
      "std {0: 0.3437758254761643, 1: 0.2291838836507762}\n"
     ]
    },
    {
     "data": {
      "image/png": "[encoded data removed]",
      "text/plain": [
       "<Figure size 432x288 with 1 Axes>"
      ]
     },
     "metadata": {
      "needs_background": "light"
     },
     "output_type": "display_data"
    }
   ],
   "source": [
    "env_rarehappy=gym.make('DistributionContextualBanditEnv-v0',arms=2, p_dist_fn=0.1, r_dist_fn=1.0)\n",
    "eval_gym(env_rarehappy)"
   ]
  },
  {
   "cell_type": "code",
   "execution_count": 11,
   "metadata": {},
   "outputs": [
    {
     "name": "stdout",
     "output_type": "stream",
     "text": [
      "means {0: 0.07407407407407407, 1: -0.06086956521739133}\n",
      "std {0: 0.26435052857271474, 1: 0.04934351637951687}\n"
     ]
    },
    {
     "data": {
      "image/png": "[encoded data removed]",
      "text/plain": [
       "<Figure size 432x288 with 1 Axes>"
      ]
     },
     "metadata": {
      "needs_background": "light"
     },
     "output_type": "display_data"
    }
   ],
   "source": [
    "eval_gym( \n",
    "    gym.make('DistributionContextualBanditEnv-v0',arms=2, p_dist_fn=[0.1,0.6], r_dist_fn=[1.0,-0.1]) \n",
    ")\n"
   ]
  },
  {
   "cell_type": "code",
   "execution_count": 12,
   "metadata": {},
   "outputs": [
    {
     "name": "stdout",
     "output_type": "stream",
     "text": [
      "means {0: -0.06603561903032097, 1: 0.14758903957545585}\n",
      "std {0: 0.5292298805382614, 1: 0.9864869167004993}\n"
     ]
    },
    {
     "data": {
      "image/png": "[encoded data removed]",
      "text/plain": [
       "<Figure size 432x288 with 1 Axes>"
      ]
     },
     "metadata": {
      "needs_background": "light"
     },
     "output_type": "display_data"
    }
   ],
   "source": [
    "eval_gym( \n",
    "    gym.make('DistributionContextualBanditEnv-v0',arms=2, p_dist_fn=[0.333,1.0], r_dist_fn=reward_sampler__fixed_simplegauss) \n",
    ")\n"
   ]
  },
  {
   "cell_type": "code",
   "execution_count": 13,
   "metadata": {},
   "outputs": [
    {
     "name": "stdout",
     "output_type": "stream",
     "text": [
      "means {0: -4.484380060745123, 1: 0.8921448341951634, 2: 1.7563123533276337, 3: -0.07874031111422408}\n",
      "std {0: 1.7463495729289122, 1: 0.3706036305140783, 2: 0.6561819890163618, 3: 0.09125969502072712}\n"
     ]
    },
    {
     "data": {
      "image/png": "[encoded data removed]",
      "text/plain": [
       "<Figure size 432x288 with 1 Axes>"
      ]
     },
     "metadata": {
      "needs_background": "light"
     },
     "output_type": "display_data"
    }
   ],
   "source": [
    "arms_r = get_reward_sampler__fixed_norm_arm( rew_means=[-5.0,1.0,2.0,-0.1],rew_vars=[1.0,0.2,0.01,0.1], )\n",
    "\n",
    "eval_gym( \n",
    "    gym.make('DistributionContextualBanditEnv-v0',arms=4, p_dist_fn=0.9, r_dist_fn=arms_r )\n",
    "    , max_steps=1000)"
   ]
  },
  {
   "cell_type": "code",
   "execution_count": 14,
   "metadata": {},
   "outputs": [
    {
     "name": "stdout",
     "output_type": "stream",
     "text": [
      "means {0: -2.0683646439683145, 1: 1.923425618827741}\n",
      "std {0: 1.0083026342233259, 1: 0.9768691316555088}\n"
     ]
    },
    {
     "data": {
      "image/png": "[encoded data removed]",
      "text/plain": [
       "<Figure size 432x288 with 1 Axes>"
      ]
     },
     "metadata": {
      "needs_background": "light"
     },
     "output_type": "display_data"
    }
   ],
   "source": [
    "arms_r1 = get_reward_sampler__fixed_norm_arm( rew_means=[-2.0,2.0,], rew_vars=[1.0,1.0], )\n",
    "\n",
    "eval_gym( \n",
    "    gym.make('DistributionContextualBanditEnv-v0',arms=2, p_dist_fn=1.0, r_dist_fn=arms_r1 )\n",
    "    , max_steps=1000,bins=30)"
   ]
  },
  {
   "cell_type": "code",
   "execution_count": 15,
   "metadata": {},
   "outputs": [
    {
     "name": "stdout",
     "output_type": "stream",
     "text": [
      "means {0: 0.9802829775583233, 1: -9.937637671163564}\n",
      "std {0: 0.9844585010526691, 1: 2.9476160423330255}\n"
     ]
    },
    {
     "data": {
      "image/png": "[encoded data removed]",
      "text/plain": [
       "<Figure size 432x288 with 1 Axes>"
      ]
     },
     "metadata": {
      "needs_background": "light"
     },
     "output_type": "display_data"
    }
   ],
   "source": [
    "arms_r2 = get_reward_sampler__fixed_norm_arm( rew_means=[1.0,-10.0], rew_vars=[1.0,3.0,], )\n",
    "\n",
    "eval_gym( \n",
    "    gym.make('DistributionContextualBanditEnv-v0',arms=2, p_dist_fn=1.0, r_dist_fn=arms_r2 )\n",
    "    , max_steps=1000,bins=20)"
   ]
  },
  {
   "cell_type": "code",
   "execution_count": null,
   "metadata": {},
   "outputs": [],
   "source": []
  },
  {
   "cell_type": "code",
   "execution_count": 16,
   "metadata": {},
   "outputs": [
    {
     "name": "stdout",
     "output_type": "stream",
     "text": [
      "means {0: 0.9865572791180297, 1: -9.783529250340216}\n",
      "std {0: 1.0237831538741273, 1: 3.3049200167641315}\n"
     ]
    },
    {
     "data": {
      "image/png": "[encoded data removed]",
      "text/plain": [
       "<Figure size 432x288 with 1 Axes>"
      ]
     },
     "metadata": {
      "needs_background": "light"
     },
     "output_type": "display_data"
    }
   ],
   "source": [
    "arms_r_sum = get_sampler__composite_sum( sub_samplers= [ arms_r1,arms_r2  ] )\n",
    "arms_r_comp = get_sampler__composite_select( sub_samplers=[ arms_r1,arms_r2  ], dist=[0.01,0.99] )\n",
    "\n",
    "eval_gym( \n",
    "    gym.make('DistributionContextualBanditEnv-v0',arms=2, p_dist_fn=1.0, r_dist_fn=arms_r_comp )\n",
    "    , max_steps=500,bins=100)"
   ]
  },
  {
   "cell_type": "code",
   "execution_count": 17,
   "metadata": {},
   "outputs": [
    {
     "name": "stdout",
     "output_type": "stream",
     "text": [
      "means {0: 0.055640739767075904, 1: -1.7715318209194941}\n",
      "std {0: 2.118966032914663, 1: 4.775985846468212}\n"
     ]
    },
    {
     "data": {
      "image/png": "[encoded data removed]",
      "text/plain": [
       "<Figure size 432x288 with 1 Axes>"
      ]
     },
     "metadata": {
      "needs_background": "light"
     },
     "output_type": "display_data"
    }
   ],
   "source": [
    "arms_r_comp = get_sampler__composite_perarm( \n",
    "    sub_samplers=[\n",
    "        get_sampler__composite_select([\n",
    "            get_reward_sampler__fixed_norm_arm(2.0,0.2),\n",
    "            get_reward_sampler__fixed_norm_arm(-2.0,1.0)]\n",
    "        ), \n",
    "        get_sampler__composite_select([\n",
    "            1.0, #get_reward_sampler__fixed_norm_arm(1.0,1.0),\n",
    "            -10.0], dist=[0.3,0.1])\n",
    "    ], )\n",
    "\n",
    "eval_gym( \n",
    "    gym.make('DistributionContextualBanditEnv-v0',arms=2, p_dist_fn=1.0, r_dist_fn=arms_r_comp ), \n",
    "    max_steps=10000,bins=100\n",
    "    )\n"
   ]
  },
  {
   "cell_type": "code",
   "execution_count": 18,
   "metadata": {},
   "outputs": [
    {
     "name": "stdout",
     "output_type": "stream",
     "text": [
      "means {0: -7.479768558885811, 1: 3.4587253425604487}\n",
      "std {0: 12.9818778941957, 1: 8.352742314156979}\n"
     ]
    },
    {
     "data": {
      "image/png": "[encoded data removed]",
      "text/plain": [
       "<Figure size 432x288 with 1 Axes>"
      ]
     },
     "metadata": {
      "needs_background": "light"
     },
     "output_type": "display_data"
    }
   ],
   "source": [
    "arms_r_comp = get_sampler__composite_perarm( \n",
    "    sub_samplers=[\n",
    "        get_sampler__composite_select([\n",
    "            get_reward_sampler__fixed_norm_arm(5.0,1.0),\n",
    "            get_reward_sampler__fixed_norm_arm(-20.0,5.0),]\n",
    "        ),\n",
    "        get_sampler__composite_select([\n",
    "            get_reward_sampler__fixed_norm_arm(20.0,1.0),\n",
    "            get_reward_sampler__fixed_norm_arm(10.0,0.1),\n",
    "            get_reward_sampler__fixed_norm_arm(-5.0,1.0),],\n",
    "            dist=[0.1, 0.9, 0.9]\n",
    "    )\n",
    "    ], )\n",
    "\n",
    "eval_gym( \n",
    "    gym.make('DistributionContextualBanditEnv-v0',arms=2, p_dist_fn=1.0, r_dist_fn=arms_r_comp ), \n",
    "    max_steps=10000,bins=30\n",
    "    )\n"
   ]
  },
  {
   "cell_type": "code",
   "execution_count": null,
   "metadata": {},
   "outputs": [],
   "source": []
  },
  {
   "cell_type": "code",
   "execution_count": 19,
   "metadata": {},
   "outputs": [
    {
     "name": "stdout",
     "output_type": "stream",
     "text": [
      "means {0: -4.755375798058282}\n",
      "std {0: 21.24681346708896}\n"
     ]
    },
    {
     "data": {
      "image/png": "[encoded data removed]",
      "text/plain": [
       "<Figure size 432x288 with 1 Axes>"
      ]
     },
     "metadata": {
      "needs_background": "light"
     },
     "output_type": "display_data"
    }
   ],
   "source": [
    "\n",
    "arm_z1 = get_sampler__composite_select([\n",
    "            get_reward_sampler__fixed_uniform_arm(0.0,30.0),\n",
    "            get_reward_sampler__fixed_norm_arm(-25.0,5.0),],\n",
    "            dist=[1.0, 1.0,] )\n",
    "\n",
    "eval_gym( \n",
    "    gym.make('DistributionContextualBanditEnv-v0',arms=1, p_dist_fn=1.0, r_dist_fn=arm_z1 ), \n",
    "    max_steps=10000,bins=100\n",
    "    )\n"
   ]
  },
  {
   "cell_type": "code",
   "execution_count": 20,
   "metadata": {},
   "outputs": [
    {
     "name": "stdout",
     "output_type": "stream",
     "text": [
      "means {0: -2.756375812203992}\n",
      "std {0: 27.361165572323305}\n"
     ]
    },
    {
     "data": {
      "image/png": "[encoded data removed]",
      "text/plain": [
       "<Figure size 432x288 with 1 Axes>"
      ]
     },
     "metadata": {
      "needs_background": "light"
     },
     "output_type": "display_data"
    }
   ],
   "source": [
    "arm_z2 = get_sampler__composite_select([\n",
    "            get_reward_sampler__fixed_uniform_arm(-15.0,-5.0),\n",
    "            get_reward_sampler__fixed_uniform_arm(30.0,55.0),\n",
    "\n",
    "            get_reward_sampler__fixed_norm_arm(-25.0,1.0),\n",
    "            get_reward_sampler__fixed_norm_arm(-20.0,0.1),\n",
    "], )\n",
    "\n",
    "env1 = gym.make('DistributionContextualBanditEnv-v0',arms=1, p_dist_fn=1.0, r_dist_fn=arm_z2 )\n",
    "eval_gym( env1, max_steps=10000,bins=100 )\n"
   ]
  },
  {
   "cell_type": "code",
   "execution_count": 21,
   "metadata": {},
   "outputs": [
    {
     "name": "stdout",
     "output_type": "stream",
     "text": [
      "means {0: 35.717157026147625}\n",
      "std {0: 43.394274666547105}\n"
     ]
    },
    {
     "data": {
      "image/png": "[encoded data removed]",
      "text/plain": [
       "<Figure size 432x288 with 1 Axes>"
      ]
     },
     "metadata": {
      "needs_background": "light"
     },
     "output_type": "display_data"
    }
   ],
   "source": [
    "arm_z3 = get_sampler__composite_select([\n",
    "            get_reward_sampler__fixed_uniform_arm(-40.0,-5.0),\n",
    "            get_reward_sampler__fixed_uniform_arm(15.0,20.0),\n",
    "\n",
    "            120.0,\n",
    "\n",
    "            get_reward_sampler__fixed_norm_arm(35.0,5.0),\n",
    "            ],\n",
    "            dist=[1.1, 1.0, 1.0,3.0]\n",
    "        )\n",
    "\n",
    "\n",
    "eval_gym( \n",
    "    gym.make('DistributionContextualBanditEnv-v0',arms=1, p_dist_fn=1.0, r_dist_fn=arm_z3 ), \n",
    "    max_steps=10000,bins=100\n",
    "    )\n"
   ]
  },
  {
   "cell_type": "code",
   "execution_count": null,
   "metadata": {},
   "outputs": [],
   "source": []
  },
  {
   "cell_type": "code",
   "execution_count": 22,
   "metadata": {},
   "outputs": [
    {
     "name": "stdout",
     "output_type": "stream",
     "text": [
      "means {0: -4.898413973293558, 1: -3.1487248546109825, 2: 35.79888645456881}\n",
      "std {0: 21.20454938891987, 1: 27.243853035070728, 2: 43.21951773184034}\n"
     ]
    },
    {
     "data": {
      "image/png": "[encoded data removed]",
      "text/plain": [
       "<Figure size 432x288 with 1 Axes>"
      ]
     },
     "metadata": {
      "needs_background": "light"
     },
     "output_type": "display_data"
    }
   ],
   "source": [
    "arms_r_comp = get_sampler__composite_perarm( sub_samplers=[ arm_z1, arm_z2, arm_z3 ], )\n",
    "\n",
    "fancy_bandit = gym.make('DistributionContextualBanditEnv-v0',arms=3, p_dist_fn=1.0, r_dist_fn=arms_r_comp )\n",
    "\n",
    "eval_gym( fancy_bandit, max_steps=100000,bins=100 )\n"
   ]
  },
  {
   "cell_type": "code",
   "execution_count": null,
   "metadata": {},
   "outputs": [],
   "source": []
  }
 ],
 "metadata": {
  "@webio": {
   "lastCommId": null,
   "lastKernelId": null
  },
  "kernelspec": {
   "display_name": "Python 3",
   "language": "python",
   "name": "python3"
  },
  "language_info": {
   "codemirror_mode": {
    "name": "ipython",
    "version": 3
   },
   "file_extension": ".py",
   "mimetype": "text/x-python",
   "name": "python",
   "nbconvert_exporter": "python",
   "pygments_lexer": "ipython3",
   "version": "3.6.7"
  }
 },
 "nbformat": 4,
 "nbformat_minor": 2
}
